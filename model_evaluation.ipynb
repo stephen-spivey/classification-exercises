{
 "cells": [
  {
   "cell_type": "code",
   "execution_count": 12,
   "id": "82489d3a-d32e-42e0-9389-436d1dbbf3a3",
   "metadata": {
    "tags": []
   },
   "outputs": [],
   "source": [
    "import pandas as pd\n",
    "from sklearn.metrics import confusion_matrix"
   ]
  },
  {
   "cell_type": "code",
   "execution_count": null,
   "id": "2b9aee09-47da-4f51-9d42-d743bec68529",
   "metadata": {},
   "outputs": [],
   "source": [
    "# 1. Create a new file named model_evaluation.py or model_evaluation.ipynb for these exercises."
   ]
  },
  {
   "cell_type": "code",
   "execution_count": null,
   "id": "0d431553-df8e-4b89-a14c-0e8341e1fe4b",
   "metadata": {},
   "outputs": [],
   "source": [
    "# 2. Given the following confusion matrix, evaluate (by hand) the model's performance.\n",
    "    # In the context of this problem, what is a false positive?\n",
    "    # In the context of this problem, what is a false negative?\n",
    "    # How would you describe this model?"
   ]
  },
  {
   "cell_type": "code",
   "execution_count": null,
   "id": "9f8ba0bb-0488-4d02-972f-07d6012e0dac",
   "metadata": {},
   "outputs": [],
   "source": [
    "# FP: Predicts a dog, but actually a cat.\n",
    "# FN: Predicts a cat, but actually a dog.\n",
    "# I would describe this model as very accurate (80%), with high precision (78%) and recall (87%)."
   ]
  },
  {
   "cell_type": "code",
   "execution_count": null,
   "id": "ea51fd67-8e2f-4ab1-b48d-8990cf843b92",
   "metadata": {},
   "outputs": [],
   "source": [
    "# 3. You are working as a datascientist working for Codeup Cody Creator (C3 for short), a \n",
    "# rubber-duck manufacturing plant.\n",
    "\n",
    "# Unfortunately, some of the rubber ducks that are produced will have defects. Your team has built several models that try \n",
    "# to predict those defects, and the data from their predictions can be found here.\n",
    "\n",
    "# Use the predictions dataset and pandas to help answer the following questions:"
   ]
  },
  {
   "cell_type": "code",
   "execution_count": null,
   "id": "3be24336-0c3f-465c-879d-5f7411720db3",
   "metadata": {},
   "outputs": [],
   "source": [
    "    # An internal team wants to investigate the cause of the manufacturing defects. They tell you that they want to \n",
    "    # identify as many of the ducks that have a defect as possible. Which evaluation metric would be appropriate here? \n",
    "    # Which model would be the best fit for this use case?"
   ]
  },
  {
   "cell_type": "code",
   "execution_count": 15,
   "id": "66365be7-81f6-4028-a544-e82f1d34700b",
   "metadata": {
    "tags": []
   },
   "outputs": [],
   "source": [
    "import env\n",
    "from env import get_db_url"
   ]
  },
  {
   "cell_type": "code",
   "execution_count": 14,
   "id": "c4610289-2058-4af2-98e8-0f366168bb96",
   "metadata": {
    "tags": []
   },
   "outputs": [
    {
     "ename": "NameError",
     "evalue": "name 'url' is not defined",
     "output_type": "error",
     "traceback": [
      "\u001b[0;31m---------------------------------------------------------------------------\u001b[0m",
      "\u001b[0;31mNameError\u001b[0m                                 Traceback (most recent call last)",
      "Cell \u001b[0;32mIn[14], line 1\u001b[0m\n\u001b[0;32m----> 1\u001b[0m df \u001b[38;5;241m=\u001b[39m pd\u001b[38;5;241m.\u001b[39mread_csv(url)\n\u001b[1;32m      2\u001b[0m df\u001b[38;5;241m.\u001b[39mhead()\n",
      "\u001b[0;31mNameError\u001b[0m: name 'url' is not defined"
     ]
    }
   ],
   "source": [
    "df = pd.read_csv(url)\n",
    "df.head()"
   ]
  },
  {
   "cell_type": "code",
   "execution_count": null,
   "id": "e7461989-8ec4-47a1-abd2-2d88ecc9a658",
   "metadata": {},
   "outputs": [],
   "source": []
  },
  {
   "cell_type": "code",
   "execution_count": null,
   "id": "7fee0e37-e67b-4e5f-b32c-4e1132f64087",
   "metadata": {},
   "outputs": [],
   "source": []
  },
  {
   "cell_type": "code",
   "execution_count": null,
   "id": "3e8ce8ba-a0f3-4ec3-b3c8-e1cc24c8469b",
   "metadata": {},
   "outputs": [],
   "source": []
  },
  {
   "cell_type": "code",
   "execution_count": null,
   "id": "8d10844a-d94f-4475-95fd-d0ace6ebec8e",
   "metadata": {},
   "outputs": [],
   "source": [
    "    # Recently several stories in the local news have come out highlighting customers who received a rubber duck \n",
    "    # with a defect, and portraying C3 in a bad light. The PR team has decided to launch a program that gives customers \n",
    "    # with a defective duck a vacation to Hawaii. They need you to predict which ducks will have defects, but tell you the \n",
    "    # really don't want to accidentally give out a vacation package when the duck really doesn't have a defect. Which \n",
    "    # evaluation metric would be appropriate here? Which model would be the best fit for this use case?"
   ]
  },
  {
   "cell_type": "code",
   "execution_count": null,
   "id": "32fb334c-33b5-4b91-98e1-e0c782494317",
   "metadata": {},
   "outputs": [],
   "source": []
  },
  {
   "cell_type": "code",
   "execution_count": null,
   "id": "b6317a09-9d49-4eda-8022-2c793f14a814",
   "metadata": {},
   "outputs": [],
   "source": [
    "# 4. You are working as a data scientist for Gives You Paws ™, a subscription based service that shows you cute pictures of \n",
    "# dogs or cats (or both for an additional fee).\n",
    "\n",
    "# At Gives You Paws, anyone can upload pictures of their cats or dogs. The photos are then put through a two step process. \n",
    "# First an automated algorithm tags pictures as either a cat or a dog (Phase I). Next, the photos that have been initially \n",
    "# identified are put through another round of review, possibly with some human oversight, before being presented to the \n",
    "# users (Phase II).\n",
    "\n",
    "# Several models have already been developed with the data, and you can find their results here.\n",
    "\n",
    "# Given this dataset, use pandas to create a baseline model (i.e. a model that just predicts the most common class) and \n",
    "# answer the following questions:"
   ]
  },
  {
   "cell_type": "code",
   "execution_count": null,
   "id": "096d89ac-0fab-4468-b18a-81509fc9f551",
   "metadata": {},
   "outputs": [],
   "source": [
    "    # a. In terms of accuracy, how do the various models compare to the baseline model? Are any of the models better than \n",
    "    # the baseline?"
   ]
  },
  {
   "cell_type": "code",
   "execution_count": null,
   "id": "25b8c870-1b3e-4de9-80bd-7a0b74c63019",
   "metadata": {},
   "outputs": [],
   "source": []
  },
  {
   "cell_type": "code",
   "execution_count": null,
   "id": "098930b1-c896-4aff-8eae-0c3e38e821c8",
   "metadata": {},
   "outputs": [],
   "source": [
    "    # b. Suppose you are working on a team that solely deals with dog pictures. Which of these models would you recommend?"
   ]
  },
  {
   "cell_type": "code",
   "execution_count": null,
   "id": "f49b3996-7f38-4062-b001-b232a0150af8",
   "metadata": {},
   "outputs": [],
   "source": []
  },
  {
   "cell_type": "code",
   "execution_count": null,
   "id": "c8c025cd-5697-426e-8971-152eabd067a2",
   "metadata": {},
   "outputs": [],
   "source": [
    "    # c. Suppose you are working on a team that solely deals with cat pictures. Which of these models would you recommend?"
   ]
  },
  {
   "cell_type": "code",
   "execution_count": null,
   "id": "e3506d4d-f6b9-4189-bd4a-0fff7c3da6da",
   "metadata": {},
   "outputs": [],
   "source": []
  },
  {
   "cell_type": "code",
   "execution_count": null,
   "id": "7c9a45fe-fca6-49ed-a370-694fac980d7f",
   "metadata": {},
   "outputs": [],
   "source": [
    "# 5. Follow the links below to read the documentation about each function, then apply those functions to the data from the \n",
    "# previous problem."
   ]
  },
  {
   "cell_type": "code",
   "execution_count": null,
   "id": "1f3a4adb-6af3-4a2b-b703-415a9324a763",
   "metadata": {},
   "outputs": [],
   "source": [
    "    # sklearn.metrics.accuracy_score"
   ]
  },
  {
   "cell_type": "code",
   "execution_count": null,
   "id": "31eb532a-d455-4ab7-8794-afcf9442cf68",
   "metadata": {},
   "outputs": [],
   "source": []
  },
  {
   "cell_type": "code",
   "execution_count": null,
   "id": "e451b0c9-5b20-41b8-aba9-2fc4cdb4f55d",
   "metadata": {},
   "outputs": [],
   "source": [
    "    # sklearn.metrics.precision_score"
   ]
  },
  {
   "cell_type": "code",
   "execution_count": null,
   "id": "a1131d67-b726-4e6f-8828-0bdf833f5bca",
   "metadata": {},
   "outputs": [],
   "source": []
  },
  {
   "cell_type": "code",
   "execution_count": null,
   "id": "9d77ce19-0cea-42ee-887d-3518d2bf950f",
   "metadata": {},
   "outputs": [],
   "source": [
    "    # sklearn.metrics.recall_score"
   ]
  },
  {
   "cell_type": "code",
   "execution_count": null,
   "id": "95b35e16-126a-4628-8865-7dbfa6a8af6e",
   "metadata": {},
   "outputs": [],
   "source": []
  },
  {
   "cell_type": "code",
   "execution_count": null,
   "id": "99856958-2fc8-463f-a1d1-84364fe7b1a8",
   "metadata": {},
   "outputs": [],
   "source": [
    "    # sklearn.metrics.classification_report"
   ]
  },
  {
   "cell_type": "code",
   "execution_count": null,
   "id": "a19d754a-37d1-44a6-abf3-483f3cdc4b31",
   "metadata": {},
   "outputs": [],
   "source": []
  },
  {
   "cell_type": "code",
   "execution_count": null,
   "id": "516a18f3-0eae-4d97-a4ed-d34d8cb70cab",
   "metadata": {},
   "outputs": [],
   "source": []
  }
 ],
 "metadata": {
  "kernelspec": {
   "display_name": "Python 3 (ipykernel)",
   "language": "python",
   "name": "python3"
  },
  "language_info": {
   "codemirror_mode": {
    "name": "ipython",
    "version": 3
   },
   "file_extension": ".py",
   "mimetype": "text/x-python",
   "name": "python",
   "nbconvert_exporter": "python",
   "pygments_lexer": "ipython3",
   "version": "3.11.4"
  }
 },
 "nbformat": 4,
 "nbformat_minor": 5
}
